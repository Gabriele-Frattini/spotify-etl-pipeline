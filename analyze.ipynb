{
 "cells": [
  {
   "cell_type": "code",
   "execution_count": 1,
   "metadata": {},
   "outputs": [],
   "source": [
    "import pandas as pd\n",
    "\n",
    "spotify_data = pd.read_csv(\"data/code_music.csv\").drop([\"Unnamed: 0\",\"duration_ms\",\"key\"],axis=1)"
   ]
  },
  {
   "cell_type": "code",
   "execution_count": 2,
   "metadata": {},
   "outputs": [],
   "source": [
    "num_data = spotify_data.drop([\"track_name\",\"artist_name\"],axis=1)"
   ]
  },
  {
   "cell_type": "code",
   "execution_count": 3,
   "metadata": {},
   "outputs": [
    {
     "data": {
      "text/html": [
       "<div>\n",
       "<style scoped>\n",
       "    .dataframe tbody tr th:only-of-type {\n",
       "        vertical-align: middle;\n",
       "    }\n",
       "\n",
       "    .dataframe tbody tr th {\n",
       "        vertical-align: top;\n",
       "    }\n",
       "\n",
       "    .dataframe thead th {\n",
       "        text-align: right;\n",
       "    }\n",
       "</style>\n",
       "<table border=\"1\" class=\"dataframe\">\n",
       "  <thead>\n",
       "    <tr style=\"text-align: right;\">\n",
       "      <th></th>\n",
       "      <th>danceability</th>\n",
       "      <th>energy</th>\n",
       "      <th>loudness</th>\n",
       "      <th>speechiness</th>\n",
       "      <th>acousticness</th>\n",
       "      <th>instrumentalness</th>\n",
       "      <th>liveness</th>\n",
       "      <th>valence</th>\n",
       "      <th>tempo</th>\n",
       "      <th>popularity</th>\n",
       "    </tr>\n",
       "  </thead>\n",
       "  <tbody>\n",
       "    <tr>\n",
       "      <th>0</th>\n",
       "      <td>-0.919845</td>\n",
       "      <td>1.078269</td>\n",
       "      <td>0.134659</td>\n",
       "      <td>-0.543676</td>\n",
       "      <td>0.011722</td>\n",
       "      <td>-0.582970</td>\n",
       "      <td>-0.375246</td>\n",
       "      <td>-0.431263</td>\n",
       "      <td>0.782276</td>\n",
       "      <td>-0.404695</td>\n",
       "    </tr>\n",
       "    <tr>\n",
       "      <th>1</th>\n",
       "      <td>1.256062</td>\n",
       "      <td>1.093787</td>\n",
       "      <td>1.168515</td>\n",
       "      <td>0.143192</td>\n",
       "      <td>-0.079547</td>\n",
       "      <td>0.462678</td>\n",
       "      <td>-0.862769</td>\n",
       "      <td>2.144042</td>\n",
       "      <td>-0.073951</td>\n",
       "      <td>1.591947</td>\n",
       "    </tr>\n",
       "    <tr>\n",
       "      <th>2</th>\n",
       "      <td>0.722812</td>\n",
       "      <td>-0.364871</td>\n",
       "      <td>-0.024047</td>\n",
       "      <td>-0.543676</td>\n",
       "      <td>0.568460</td>\n",
       "      <td>0.623811</td>\n",
       "      <td>-0.556770</td>\n",
       "      <td>-0.124487</td>\n",
       "      <td>0.030329</td>\n",
       "      <td>0.026025</td>\n",
       "    </tr>\n",
       "    <tr>\n",
       "      <th>3</th>\n",
       "      <td>0.250855</td>\n",
       "      <td>-0.897644</td>\n",
       "      <td>0.283446</td>\n",
       "      <td>-0.360511</td>\n",
       "      <td>0.796631</td>\n",
       "      <td>-1.779465</td>\n",
       "      <td>-0.530838</td>\n",
       "      <td>-0.957626</td>\n",
       "      <td>-0.282890</td>\n",
       "      <td>-1.719946</td>\n",
       "    </tr>\n",
       "    <tr>\n",
       "      <th>4</th>\n",
       "      <td>-0.576603</td>\n",
       "      <td>0.674811</td>\n",
       "      <td>1.249285</td>\n",
       "      <td>-0.433239</td>\n",
       "      <td>-0.931279</td>\n",
       "      <td>0.616954</td>\n",
       "      <td>-0.357958</td>\n",
       "      <td>-1.016963</td>\n",
       "      <td>-0.106585</td>\n",
       "      <td>-0.593654</td>\n",
       "    </tr>\n",
       "  </tbody>\n",
       "</table>\n",
       "</div>"
      ],
      "text/plain": [
       "   danceability    energy  loudness  speechiness  acousticness  \\\n",
       "0     -0.919845  1.078269  0.134659    -0.543676      0.011722   \n",
       "1      1.256062  1.093787  1.168515     0.143192     -0.079547   \n",
       "2      0.722812 -0.364871 -0.024047    -0.543676      0.568460   \n",
       "3      0.250855 -0.897644  0.283446    -0.360511      0.796631   \n",
       "4     -0.576603  0.674811  1.249285    -0.433239     -0.931279   \n",
       "\n",
       "   instrumentalness  liveness   valence     tempo  popularity  \n",
       "0         -0.582970 -0.375246 -0.431263  0.782276   -0.404695  \n",
       "1          0.462678 -0.862769  2.144042 -0.073951    1.591947  \n",
       "2          0.623811 -0.556770 -0.124487  0.030329    0.026025  \n",
       "3         -1.779465 -0.530838 -0.957626 -0.282890   -1.719946  \n",
       "4          0.616954 -0.357958 -1.016963 -0.106585   -0.593654  "
      ]
     },
     "execution_count": 3,
     "metadata": {},
     "output_type": "execute_result"
    }
   ],
   "source": [
    "import numpy as np\n",
    "from sklearn.preprocessing import StandardScaler\n",
    "\n",
    "def remove_outliers(df):\n",
    "\n",
    "  for col in num_data.columns:\n",
    "    q3, q1 = np.percentile(num_data[col], [75,25])\n",
    "    df.loc[(df[col]>q1) | (df[col]<q3)]     \n",
    "\n",
    "    return df\n",
    "\n",
    "num_data = remove_outliers(num_data)\n",
    "\n",
    "standard_df = num_data.copy()\n",
    "\n",
    "standardize = StandardScaler()\n",
    "standard_df = standardize.fit_transform(standard_df)\n",
    "\n",
    "standard_df = pd.DataFrame(standard_df,columns=num_data.columns)\n",
    "standard_df.head()"
   ]
  },
  {
   "cell_type": "code",
   "execution_count": 6,
   "metadata": {},
   "outputs": [
    {
     "data": {
      "text/plain": [
       "<matplotlib.lines.Line2D at 0x1b806f1eaf0>"
      ]
     },
     "execution_count": 6,
     "metadata": {},
     "output_type": "execute_result"
    },
    {
     "data": {
      "image/png": "[encoded data removed]",
      "text/plain": [
       "<Figure size 432x288 with 1 Axes>"
      ]
     },
     "metadata": {
      "needs_background": "light"
     },
     "output_type": "display_data"
    }
   ],
   "source": [
    "from scipy.cluster import hierarchy\n",
    "import matplotlib.pyplot as plt\n",
    "\n",
    "hierarchy.dendrogram(hierarchy.linkage(standard_df,method=\"ward\"))\n",
    "plt.axhline(y=10, color='r', linestyle='--')"
   ]
  },
  {
   "cell_type": "code",
   "execution_count": 8,
   "metadata": {},
   "outputs": [
    {
     "data": {
      "text/html": [
       "<div>\n",
       "<style scoped>\n",
       "    .dataframe tbody tr th:only-of-type {\n",
       "        vertical-align: middle;\n",
       "    }\n",
       "\n",
       "    .dataframe tbody tr th {\n",
       "        vertical-align: top;\n",
       "    }\n",
       "\n",
       "    .dataframe thead th {\n",
       "        text-align: right;\n",
       "    }\n",
       "</style>\n",
       "<table border=\"1\" class=\"dataframe\">\n",
       "  <thead>\n",
       "    <tr style=\"text-align: right;\">\n",
       "      <th></th>\n",
       "      <th>danceability</th>\n",
       "      <th>energy</th>\n",
       "      <th>loudness</th>\n",
       "      <th>speechiness</th>\n",
       "      <th>acousticness</th>\n",
       "      <th>instrumentalness</th>\n",
       "      <th>liveness</th>\n",
       "      <th>valence</th>\n",
       "      <th>tempo</th>\n",
       "      <th>popularity</th>\n",
       "      <th>cluster</th>\n",
       "    </tr>\n",
       "  </thead>\n",
       "  <tbody>\n",
       "    <tr>\n",
       "      <th>0</th>\n",
       "      <td>-0.919845</td>\n",
       "      <td>1.078269</td>\n",
       "      <td>0.134659</td>\n",
       "      <td>-0.543676</td>\n",
       "      <td>0.011722</td>\n",
       "      <td>-0.582970</td>\n",
       "      <td>-0.375246</td>\n",
       "      <td>-0.431263</td>\n",
       "      <td>0.782276</td>\n",
       "      <td>-0.404695</td>\n",
       "      <td>1</td>\n",
       "    </tr>\n",
       "    <tr>\n",
       "      <th>1</th>\n",
       "      <td>1.256062</td>\n",
       "      <td>1.093787</td>\n",
       "      <td>1.168515</td>\n",
       "      <td>0.143192</td>\n",
       "      <td>-0.079547</td>\n",
       "      <td>0.462678</td>\n",
       "      <td>-0.862769</td>\n",
       "      <td>2.144042</td>\n",
       "      <td>-0.073951</td>\n",
       "      <td>1.591947</td>\n",
       "      <td>3</td>\n",
       "    </tr>\n",
       "    <tr>\n",
       "      <th>2</th>\n",
       "      <td>0.722812</td>\n",
       "      <td>-0.364871</td>\n",
       "      <td>-0.024047</td>\n",
       "      <td>-0.543676</td>\n",
       "      <td>0.568460</td>\n",
       "      <td>0.623811</td>\n",
       "      <td>-0.556770</td>\n",
       "      <td>-0.124487</td>\n",
       "      <td>0.030329</td>\n",
       "      <td>0.026025</td>\n",
       "      <td>0</td>\n",
       "    </tr>\n",
       "    <tr>\n",
       "      <th>3</th>\n",
       "      <td>0.250855</td>\n",
       "      <td>-0.897644</td>\n",
       "      <td>0.283446</td>\n",
       "      <td>-0.360511</td>\n",
       "      <td>0.796631</td>\n",
       "      <td>-1.779465</td>\n",
       "      <td>-0.530838</td>\n",
       "      <td>-0.957626</td>\n",
       "      <td>-0.282890</td>\n",
       "      <td>-1.719946</td>\n",
       "      <td>0</td>\n",
       "    </tr>\n",
       "    <tr>\n",
       "      <th>4</th>\n",
       "      <td>-0.576603</td>\n",
       "      <td>0.674811</td>\n",
       "      <td>1.249285</td>\n",
       "      <td>-0.433239</td>\n",
       "      <td>-0.931279</td>\n",
       "      <td>0.616954</td>\n",
       "      <td>-0.357958</td>\n",
       "      <td>-1.016963</td>\n",
       "      <td>-0.106585</td>\n",
       "      <td>-0.593654</td>\n",
       "      <td>1</td>\n",
       "    </tr>\n",
       "  </tbody>\n",
       "</table>\n",
       "</div>"
      ],
      "text/plain": [
       "   danceability    energy  loudness  speechiness  acousticness  \\\n",
       "0     -0.919845  1.078269  0.134659    -0.543676      0.011722   \n",
       "1      1.256062  1.093787  1.168515     0.143192     -0.079547   \n",
       "2      0.722812 -0.364871 -0.024047    -0.543676      0.568460   \n",
       "3      0.250855 -0.897644  0.283446    -0.360511      0.796631   \n",
       "4     -0.576603  0.674811  1.249285    -0.433239     -0.931279   \n",
       "\n",
       "   instrumentalness  liveness   valence     tempo  popularity  cluster  \n",
       "0         -0.582970 -0.375246 -0.431263  0.782276   -0.404695        1  \n",
       "1          0.462678 -0.862769  2.144042 -0.073951    1.591947        3  \n",
       "2          0.623811 -0.556770 -0.124487  0.030329    0.026025        0  \n",
       "3         -1.779465 -0.530838 -0.957626 -0.282890   -1.719946        0  \n",
       "4          0.616954 -0.357958 -1.016963 -0.106585   -0.593654        1  "
      ]
     },
     "execution_count": 8,
     "metadata": {},
     "output_type": "execute_result"
    }
   ],
   "source": [
    "from sklearn.cluster import AgglomerativeClustering\n",
    "\n",
    "cluster_model = AgglomerativeClustering(n_clusters=None, affinity='euclidean', linkage='ward', distance_threshold=11)\n",
    "clusters = cluster_model.fit_predict(standard_df)\n",
    "\n",
    "standard_df[\"cluster\"] = pd.DataFrame(clusters)\n",
    "standard_df.head()"
   ]
  },
  {
   "cell_type": "code",
   "execution_count": 9,
   "metadata": {},
   "outputs": [
    {
     "data": {
      "text/html": [
       "<div>\n",
       "<style scoped>\n",
       "    .dataframe tbody tr th:only-of-type {\n",
       "        vertical-align: middle;\n",
       "    }\n",
       "\n",
       "    .dataframe tbody tr th {\n",
       "        vertical-align: top;\n",
       "    }\n",
       "\n",
       "    .dataframe thead th {\n",
       "        text-align: right;\n",
       "    }\n",
       "</style>\n",
       "<table border=\"1\" class=\"dataframe\">\n",
       "  <thead>\n",
       "    <tr style=\"text-align: right;\">\n",
       "      <th></th>\n",
       "      <th>Feature importance</th>\n",
       "    </tr>\n",
       "  </thead>\n",
       "  <tbody>\n",
       "    <tr>\n",
       "      <th>acousticness</th>\n",
       "      <td>0.274</td>\n",
       "    </tr>\n",
       "    <tr>\n",
       "      <th>instrumentalness</th>\n",
       "      <td>0.169</td>\n",
       "    </tr>\n",
       "    <tr>\n",
       "      <th>valence</th>\n",
       "      <td>0.149</td>\n",
       "    </tr>\n",
       "    <tr>\n",
       "      <th>energy</th>\n",
       "      <td>0.110</td>\n",
       "    </tr>\n",
       "    <tr>\n",
       "      <th>loudness</th>\n",
       "      <td>0.079</td>\n",
       "    </tr>\n",
       "    <tr>\n",
       "      <th>danceability</th>\n",
       "      <td>0.062</td>\n",
       "    </tr>\n",
       "    <tr>\n",
       "      <th>liveness</th>\n",
       "      <td>0.054</td>\n",
       "    </tr>\n",
       "    <tr>\n",
       "      <th>popularity</th>\n",
       "      <td>0.037</td>\n",
       "    </tr>\n",
       "    <tr>\n",
       "      <th>speechiness</th>\n",
       "      <td>0.034</td>\n",
       "    </tr>\n",
       "    <tr>\n",
       "      <th>tempo</th>\n",
       "      <td>0.032</td>\n",
       "    </tr>\n",
       "  </tbody>\n",
       "</table>\n",
       "</div>"
      ],
      "text/plain": [
       "                  Feature importance\n",
       "acousticness                   0.274\n",
       "instrumentalness               0.169\n",
       "valence                        0.149\n",
       "energy                         0.110\n",
       "loudness                       0.079\n",
       "danceability                   0.062\n",
       "liveness                       0.054\n",
       "popularity                     0.037\n",
       "speechiness                    0.034\n",
       "tempo                          0.032"
      ]
     },
     "execution_count": 9,
     "metadata": {},
     "output_type": "execute_result"
    }
   ],
   "source": [
    "from sklearn.ensemble import RandomForestClassifier\n",
    "from sklearn.model_selection import GridSearchCV\n",
    "\n",
    "X = standard_df.drop(\"cluster\",axis=1)\n",
    "y = standard_df.cluster\n",
    "\n",
    "rf = RandomForestClassifier()\n",
    "rf_model = rf.fit(X,y)\n",
    "\n",
    "feat = pd.Series(rf_model.feature_importances_.round(3),list(X)).sort_values(ascending=False).head(12)\n",
    "feat_df = pd.DataFrame(feat,columns=['Feature importance'])\n",
    "feat_df"
   ]
  },
  {
   "cell_type": "code",
   "execution_count": 10,
   "metadata": {},
   "outputs": [
    {
     "data": {
      "application/vnd.plotly.v1+json": {
       "config": {
        "plotlyServerURL": "https://plot.ly"
       },
       "data": [
        {
         "alignmentgroup": "True",
         "hovertemplate": "x=%{x}<br>y=%{y}<extra></extra>",
         "legendgroup": "",
         "marker": {
          "color": "#636efa",
          "pattern": {
           "shape": ""
          }
         },
         "name": "",
         "offsetgroup": "",
         "orientation": "v",
         "showlegend": false,
         "textposition": "auto",
         "type": "bar",
         "x": [
          "speechiness",
          "tempo",
          "popularity",
          "danceability",
          "loudness",
          "liveness",
          "energy",
          "instrumentalness",
          "acousticness",
          "valence"
         ],
         "xaxis": "x",
         "y": [
          0,
          0,
          0,
          0.002,
          0.008,
          0.032,
          0.2,
          0.244,
          0.52,
          0.5860000000000001
         ],
         "yaxis": "y"
        }
       ],
       "layout": {
        "barmode": "relative",
        "legend": {
         "tracegroupgap": 0
        },
        "template": {
         "data": {
          "bar": [
           {
            "error_x": {
             "color": "#2a3f5f"
            },
            "error_y": {
             "color": "#2a3f5f"
            },
            "marker": {
             "line": {
              "color": "#E5ECF6",
              "width": 0.5
             },
             "pattern": {
              "fillmode": "overlay",
              "size": 10,
              "solidity": 0.2
             }
            },
            "type": "bar"
           }
          ],
          "barpolar": [
           {
            "marker": {
             "line": {
              "color": "#E5ECF6",
              "width": 0.5
             },
             "pattern": {
              "fillmode": "overlay",
              "size": 10,
              "solidity": 0.2
             }
            },
            "type": "barpolar"
           }
          ],
          "carpet": [
           {
            "aaxis": {
             "endlinecolor": "#2a3f5f",
             "gridcolor": "white",
             "linecolor": "white",
             "minorgridcolor": "white",
             "startlinecolor": "#2a3f5f"
            },
            "baxis": {
             "endlinecolor": "#2a3f5f",
             "gridcolor": "white",
             "linecolor": "white",
             "minorgridcolor": "white",
             "startlinecolor": "#2a3f5f"
            },
            "type": "carpet"
           }
          ],
          "choropleth": [
           {
            "colorbar": {
             "outlinewidth": 0,
             "ticks": ""
            },
            "type": "choropleth"
           }
          ],
          "contour": [
           {
            "colorbar": {
             "outlinewidth": 0,
             "ticks": ""
            },
            "colorscale": [
             [
              0,
              "#0d0887"
             ],
             [
              0.1111111111111111,
              "#46039f"
             ],
             [
              0.2222222222222222,
              "#7201a8"
             ],
             [
              0.3333333333333333,
              "#9c179e"
             ],
             [
              0.4444444444444444,
              "#bd3786"
             ],
             [
              0.5555555555555556,
              "#d8576b"
             ],
             [
              0.6666666666666666,
              "#ed7953"
             ],
             [
              0.7777777777777778,
              "#fb9f3a"
             ],
             [
              0.8888888888888888,
              "#fdca26"
             ],
             [
              1,
              "#f0f921"
             ]
            ],
            "type": "contour"
           }
          ],
          "contourcarpet": [
           {
            "colorbar": {
             "outlinewidth": 0,
             "ticks": ""
            },
            "type": "contourcarpet"
           }
          ],
          "heatmap": [
           {
            "colorbar": {
             "outlinewidth": 0,
             "ticks": ""
            },
            "colorscale": [
             [
              0,
              "#0d0887"
             ],
             [
              0.1111111111111111,
              "#46039f"
             ],
             [
              0.2222222222222222,
              "#7201a8"
             ],
             [
              0.3333333333333333,
              "#9c179e"
             ],
             [
              0.4444444444444444,
              "#bd3786"
             ],
             [
              0.5555555555555556,
              "#d8576b"
             ],
             [
              0.6666666666666666,
              "#ed7953"
             ],
             [
              0.7777777777777778,
              "#fb9f3a"
             ],
             [
              0.8888888888888888,
              "#fdca26"
             ],
             [
              1,
              "#f0f921"
             ]
            ],
            "type": "heatmap"
           }
          ],
          "heatmapgl": [
           {
            "colorbar": {
             "outlinewidth": 0,
             "ticks": ""
            },
            "colorscale": [
             [
              0,
              "#0d0887"
             ],
             [
              0.1111111111111111,
              "#46039f"
             ],
             [
              0.2222222222222222,
              "#7201a8"
             ],
             [
              0.3333333333333333,
              "#9c179e"
             ],
             [
              0.4444444444444444,
              "#bd3786"
             ],
             [
              0.5555555555555556,
              "#d8576b"
             ],
             [
              0.6666666666666666,
              "#ed7953"
             ],
             [
              0.7777777777777778,
              "#fb9f3a"
             ],
             [
              0.8888888888888888,
              "#fdca26"
             ],
             [
              1,
              "#f0f921"
             ]
            ],
            "type": "heatmapgl"
           }
          ],
          "histogram": [
           {
            "marker": {
             "pattern": {
              "fillmode": "overlay",
              "size": 10,
              "solidity": 0.2
             }
            },
            "type": "histogram"
           }
          ],
          "histogram2d": [
           {
            "colorbar": {
             "outlinewidth": 0,
             "ticks": ""
            },
            "colorscale": [
             [
              0,
              "#0d0887"
             ],
             [
              0.1111111111111111,
              "#46039f"
             ],
             [
              0.2222222222222222,
              "#7201a8"
             ],
             [
              0.3333333333333333,
              "#9c179e"
             ],
             [
              0.4444444444444444,
              "#bd3786"
             ],
             [
              0.5555555555555556,
              "#d8576b"
             ],
             [
              0.6666666666666666,
              "#ed7953"
             ],
             [
              0.7777777777777778,
              "#fb9f3a"
             ],
             [
              0.8888888888888888,
              "#fdca26"
             ],
             [
              1,
              "#f0f921"
             ]
            ],
            "type": "histogram2d"
           }
          ],
          "histogram2dcontour": [
           {
            "colorbar": {
             "outlinewidth": 0,
             "ticks": ""
            },
            "colorscale": [
             [
              0,
              "#0d0887"
             ],
             [
              0.1111111111111111,
              "#46039f"
             ],
             [
              0.2222222222222222,
              "#7201a8"
             ],
             [
              0.3333333333333333,
              "#9c179e"
             ],
             [
              0.4444444444444444,
              "#bd3786"
             ],
             [
              0.5555555555555556,
              "#d8576b"
             ],
             [
              0.6666666666666666,
              "#ed7953"
             ],
             [
              0.7777777777777778,
              "#fb9f3a"
             ],
             [
              0.8888888888888888,
              "#fdca26"
             ],
             [
              1,
              "#f0f921"
             ]
            ],
            "type": "histogram2dcontour"
           }
          ],
          "mesh3d": [
           {
            "colorbar": {
             "outlinewidth": 0,
             "ticks": ""
            },
            "type": "mesh3d"
           }
          ],
          "parcoords": [
           {
            "line": {
             "colorbar": {
              "outlinewidth": 0,
              "ticks": ""
             }
            },
            "type": "parcoords"
           }
          ],
          "pie": [
           {
            "automargin": true,
            "type": "pie"
           }
          ],
          "scatter": [
           {
            "marker": {
             "colorbar": {
              "outlinewidth": 0,
              "ticks": ""
             }
            },
            "type": "scatter"
           }
          ],
          "scatter3d": [
           {
            "line": {
             "colorbar": {
              "outlinewidth": 0,
              "ticks": ""
             }
            },
            "marker": {
             "colorbar": {
              "outlinewidth": 0,
              "ticks": ""
             }
            },
            "type": "scatter3d"
           }
          ],
          "scattercarpet": [
           {
            "marker": {
             "colorbar": {
              "outlinewidth": 0,
              "ticks": ""
             }
            },
            "type": "scattercarpet"
           }
          ],
          "scattergeo": [
           {
            "marker": {
             "colorbar": {
              "outlinewidth": 0,
              "ticks": ""
             }
            },
            "type": "scattergeo"
           }
          ],
          "scattergl": [
           {
            "marker": {
             "colorbar": {
              "outlinewidth": 0,
              "ticks": ""
             }
            },
            "type": "scattergl"
           }
          ],
          "scattermapbox": [
           {
            "marker": {
             "colorbar": {
              "outlinewidth": 0,
              "ticks": ""
             }
            },
            "type": "scattermapbox"
           }
          ],
          "scatterpolar": [
           {
            "marker": {
             "colorbar": {
              "outlinewidth": 0,
              "ticks": ""
             }
            },
            "type": "scatterpolar"
           }
          ],
          "scatterpolargl": [
           {
            "marker": {
             "colorbar": {
              "outlinewidth": 0,
              "ticks": ""
             }
            },
            "type": "scatterpolargl"
           }
          ],
          "scatterternary": [
           {
            "marker": {
             "colorbar": {
              "outlinewidth": 0,
              "ticks": ""
             }
            },
            "type": "scatterternary"
           }
          ],
          "surface": [
           {
            "colorbar": {
             "outlinewidth": 0,
             "ticks": ""
            },
            "colorscale": [
             [
              0,
              "#0d0887"
             ],
             [
              0.1111111111111111,
              "#46039f"
             ],
             [
              0.2222222222222222,
              "#7201a8"
             ],
             [
              0.3333333333333333,
              "#9c179e"
             ],
             [
              0.4444444444444444,
              "#bd3786"
             ],
             [
              0.5555555555555556,
              "#d8576b"
             ],
             [
              0.6666666666666666,
              "#ed7953"
             ],
             [
              0.7777777777777778,
              "#fb9f3a"
             ],
             [
              0.8888888888888888,
              "#fdca26"
             ],
             [
              1,
              "#f0f921"
             ]
            ],
            "type": "surface"
           }
          ],
          "table": [
           {
            "cells": {
             "fill": {
              "color": "#EBF0F8"
             },
             "line": {
              "color": "white"
             }
            },
            "header": {
             "fill": {
              "color": "#C8D4E3"
             },
             "line": {
              "color": "white"
             }
            },
            "type": "table"
           }
          ]
         },
         "layout": {
          "annotationdefaults": {
           "arrowcolor": "#2a3f5f",
           "arrowhead": 0,
           "arrowwidth": 1
          },
          "autotypenumbers": "strict",
          "coloraxis": {
           "colorbar": {
            "outlinewidth": 0,
            "ticks": ""
           }
          },
          "colorscale": {
           "diverging": [
            [
             0,
             "#8e0152"
            ],
            [
             0.1,
             "#c51b7d"
            ],
            [
             0.2,
             "#de77ae"
            ],
            [
             0.3,
             "#f1b6da"
            ],
            [
             0.4,
             "#fde0ef"
            ],
            [
             0.5,
             "#f7f7f7"
            ],
            [
             0.6,
             "#e6f5d0"
            ],
            [
             0.7,
             "#b8e186"
            ],
            [
             0.8,
             "#7fbc41"
            ],
            [
             0.9,
             "#4d9221"
            ],
            [
             1,
             "#276419"
            ]
           ],
           "sequential": [
            [
             0,
             "#0d0887"
            ],
            [
             0.1111111111111111,
             "#46039f"
            ],
            [
             0.2222222222222222,
             "#7201a8"
            ],
            [
             0.3333333333333333,
             "#9c179e"
            ],
            [
             0.4444444444444444,
             "#bd3786"
            ],
            [
             0.5555555555555556,
             "#d8576b"
            ],
            [
             0.6666666666666666,
             "#ed7953"
            ],
            [
             0.7777777777777778,
             "#fb9f3a"
            ],
            [
             0.8888888888888888,
             "#fdca26"
            ],
            [
             1,
             "#f0f921"
            ]
           ],
           "sequentialminus": [
            [
             0,
             "#0d0887"
            ],
            [
             0.1111111111111111,
             "#46039f"
            ],
            [
             0.2222222222222222,
             "#7201a8"
            ],
            [
             0.3333333333333333,
             "#9c179e"
            ],
            [
             0.4444444444444444,
             "#bd3786"
            ],
            [
             0.5555555555555556,
             "#d8576b"
            ],
            [
             0.6666666666666666,
             "#ed7953"
            ],
            [
             0.7777777777777778,
             "#fb9f3a"
            ],
            [
             0.8888888888888888,
             "#fdca26"
            ],
            [
             1,
             "#f0f921"
            ]
           ]
          },
          "colorway": [
           "#636efa",
           "#EF553B",
           "#00cc96",
           "#ab63fa",
           "#FFA15A",
           "#19d3f3",
           "#FF6692",
           "#B6E880",
           "#FF97FF",
           "#FECB52"
          ],
          "font": {
           "color": "#2a3f5f"
          },
          "geo": {
           "bgcolor": "white",
           "lakecolor": "white",
           "landcolor": "#E5ECF6",
           "showlakes": true,
           "showland": true,
           "subunitcolor": "white"
          },
          "hoverlabel": {
           "align": "left"
          },
          "hovermode": "closest",
          "mapbox": {
           "style": "light"
          },
          "paper_bgcolor": "white",
          "plot_bgcolor": "#E5ECF6",
          "polar": {
           "angularaxis": {
            "gridcolor": "white",
            "linecolor": "white",
            "ticks": ""
           },
           "bgcolor": "#E5ECF6",
           "radialaxis": {
            "gridcolor": "white",
            "linecolor": "white",
            "ticks": ""
           }
          },
          "scene": {
           "xaxis": {
            "backgroundcolor": "#E5ECF6",
            "gridcolor": "white",
            "gridwidth": 2,
            "linecolor": "white",
            "showbackground": true,
            "ticks": "",
            "zerolinecolor": "white"
           },
           "yaxis": {
            "backgroundcolor": "#E5ECF6",
            "gridcolor": "white",
            "gridwidth": 2,
            "linecolor": "white",
            "showbackground": true,
            "ticks": "",
            "zerolinecolor": "white"
           },
           "zaxis": {
            "backgroundcolor": "#E5ECF6",
            "gridcolor": "white",
            "gridwidth": 2,
            "linecolor": "white",
            "showbackground": true,
            "ticks": "",
            "zerolinecolor": "white"
           }
          },
          "shapedefaults": {
           "line": {
            "color": "#2a3f5f"
           }
          },
          "ternary": {
           "aaxis": {
            "gridcolor": "white",
            "linecolor": "white",
            "ticks": ""
           },
           "baxis": {
            "gridcolor": "white",
            "linecolor": "white",
            "ticks": ""
           },
           "bgcolor": "#E5ECF6",
           "caxis": {
            "gridcolor": "white",
            "linecolor": "white",
            "ticks": ""
           }
          },
          "title": {
           "x": 0.05
          },
          "xaxis": {
           "automargin": true,
           "gridcolor": "white",
           "linecolor": "white",
           "ticks": "",
           "title": {
            "standoff": 15
           },
           "zerolinecolor": "white",
           "zerolinewidth": 2
          },
          "yaxis": {
           "automargin": true,
           "gridcolor": "white",
           "linecolor": "white",
           "ticks": "",
           "title": {
            "standoff": 15
           },
           "zerolinecolor": "white",
           "zerolinewidth": 2
          }
         }
        },
        "title": {
         "text": "Permutation importance"
        },
        "xaxis": {
         "anchor": "y",
         "domain": [
          0,
          1
         ],
         "title": {
          "text": "x"
         }
        },
        "yaxis": {
         "anchor": "x",
         "domain": [
          0,
          1
         ],
         "title": {
          "text": "y"
         }
        }
       }
      }
     },
     "metadata": {},
     "output_type": "display_data"
    }
   ],
   "source": [
    "from sklearn.inspection import permutation_importance\n",
    "import plotly.express as px\n",
    "\n",
    "perm_importance = permutation_importance(rf_model, X, y, scoring=\"neg_mean_squared_error\")\n",
    "\n",
    "sorted_index = perm_importance.importances_mean.argsort()\n",
    "\n",
    "px.bar(x=X.columns[sorted_index], y=perm_importance.importances_mean[sorted_index], title=\"Permutation importance\")"
   ]
  },
  {
   "cell_type": "code",
   "execution_count": 11,
   "metadata": {},
   "outputs": [
    {
     "name": "stdout",
     "output_type": "stream",
     "text": [
      "The track with the highest valence is 'Inspector Norse' and the lowest is 'Sweet Unrest'\n",
      "The track with the highest acousticness is 'Inspire' and the lowest is 'Time Lapse'\n",
      "The track with the highest energy is 'Your Quest is Over (Feat. Pongball)' and the lowest is 'Miss You'\n",
      "The track with the highest instrumentalness is 'Happiness' and the lowest is 'Keep Close'\n"
     ]
    }
   ],
   "source": [
    "#valence, acousticness, energy, instrumentalness\n",
    "\n",
    "for col in spotify_data[[\"valence\",\"acousticness\",\"energy\",\"instrumentalness\"]].columns:\n",
    "  max_value = spotify_data.iloc[spotify_data[col].idxmax(),]\n",
    "  min_value = spotify_data.iloc[spotify_data[col].idxmin(),]\n",
    "  print(f\"The track with the highest {col} is '{max_value['track_name']}' and the lowest is '{min_value['track_name']}'\")"
   ]
  },
  {
   "cell_type": "code",
   "execution_count": 4,
   "metadata": {},
   "outputs": [],
   "source": [
    "X_most_important = num_data[[\"energy\",\"valence\",\"acousticness\",\"liveness\"]]"
   ]
  },
  {
   "cell_type": "code",
   "execution_count": 5,
   "metadata": {},
   "outputs": [],
   "source": [
    "from sklearn.cluster import KMeans\n",
    "\n",
    "sc = StandardScaler()\n",
    "\n",
    "X = X_most_important.copy()\n",
    "\n",
    "sc.fit_transform(X)\n",
    "\n",
    "X = pd.DataFrame(X, columns=X_most_important.columns)\n",
    "\n",
    "cluster_model = KMeans(n_clusters=6)\n",
    "clusters = cluster_model.fit_predict(X)\n",
    "X[\"cluster\"] = np.array(clusters)"
   ]
  },
  {
   "cell_type": "code",
   "execution_count": null,
   "metadata": {},
   "outputs": [],
   "source": [
    "import pickle\n",
    "with open('cluster_model.pickle', 'wb') as f:\n",
    "    pickle.dump(cluster_model, f)\n",
    "\n",
    "import pickle\n",
    "with open('sc.pickle', 'wb') as f:\n",
    "    pickle.dump(sc, f)"
   ]
  },
  {
   "cell_type": "code",
   "execution_count": 19,
   "metadata": {},
   "outputs": [
    {
     "data": {
      "text/plain": [
       "5    25\n",
       "2    23\n",
       "4    20\n",
       "1    14\n",
       "3    12\n",
       "0     6\n",
       "Name: clusters, dtype: int64"
      ]
     },
     "execution_count": 19,
     "metadata": {},
     "output_type": "execute_result"
    }
   ],
   "source": [
    "X[\"cluster\"].value_counts()"
   ]
  },
  {
   "cell_type": "code",
   "execution_count": 24,
   "metadata": {},
   "outputs": [],
   "source": [
    "all_data = pd.concat([spotify_data[[\"artist_name\",\"track_name\"]],X],axis=1)"
   ]
  },
  {
   "cell_type": "code",
   "execution_count": 32,
   "metadata": {},
   "outputs": [
    {
     "name": "stdout",
     "output_type": "stream",
     "text": [
      "2022-04-07 21:23:22,089 INFO sqlalchemy.engine.Engine BEGIN (implicit)\n",
      "2022-04-07 21:23:22,089 INFO sqlalchemy.engine.Engine PRAGMA main.table_info(\"tracks\")\n",
      "2022-04-07 21:23:22,089 INFO sqlalchemy.engine.Engine [raw sql] ()\n",
      "2022-04-07 21:23:22,102 INFO sqlalchemy.engine.Engine INSERT INTO tracks (artist_name, track_name, energy, valence, acousticness, liveness, cluster) VALUES (?, ?, ?, ?, ?, ?, ?)\n",
      "2022-04-07 21:23:22,102 INFO sqlalchemy.engine.Engine [generated in 0.00185s] (('Emeralds', 'Candy Shoppe', 0.817, 0.185, 0.31, 0.123, 3), ('Marcus Marr', 'The Music', 0.82, 0.823, 0.28, 0.0666, 2), ('Phoenix', 'Love Like a Sunset, Pt. I', 0.538, 0.261, 0.493, 0.102, 3), ('Phoenix', 'Love Like a Sunset, Pt. II', 0.435, 0.0546, 0.568, 0.105, 4), ('Kalax', 'Time Lapse', 0.739, 0.0399, 3.53e-05, 0.125, 1), ('Mark McGuire', 'The Instinct', 0.568, 0.539, 0.0174, 0.135, 2), ('LIGHTS OUT ASIA', 'Ghost Identifier', 0.509, 0.0679, 0.0258, 0.132, 5), ('Stumbleine', 'Cherry Blossom', 0.519, 0.152, 0.000191, 0.125, 5)  ... displaying 10 of 100 total bound parameter sets ...  ('Oliver Tank', 'Embrace (feat. Fawn Meyers)', 0.327, 0.0524, 0.885, 0.0975, 4), ('Jacques Greene', 'Another Girl', 0.638, 0.71, 0.0709, 0.331, 2))\n",
      "2022-04-07 21:23:22,109 INFO sqlalchemy.engine.Engine COMMIT\n"
     ]
    }
   ],
   "source": [
    "from db import tracks, engine \n",
    "\n",
    "with engine.begin() as conn:\n",
    "  all_data.to_sql('tracks', con=conn, if_exists='append', index=False)"
   ]
  }
 ],
 "metadata": {
  "interpreter": {
   "hash": "751fc7cd718ea1dc47fd5ecc3c4bdf4f5fda51fe7e62ba24c818bda8d6281379"
  },
  "kernelspec": {
   "display_name": "Python 3.9.7 ('DjangoAndD3')",
   "language": "python",
   "name": "python3"
  },
  "language_info": {
   "codemirror_mode": {
    "name": "ipython",
    "version": 3
   },
   "file_extension": ".py",
   "mimetype": "text/x-python",
   "name": "python",
   "nbconvert_exporter": "python",
   "pygments_lexer": "ipython3",
   "version": "3.9.7"
  },
  "orig_nbformat": 4
 },
 "nbformat": 4,
 "nbformat_minor": 2
}
